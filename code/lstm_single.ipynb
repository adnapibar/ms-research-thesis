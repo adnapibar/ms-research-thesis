{
 "cells": [
  {
   "cell_type": "code",
   "execution_count": 1,
   "metadata": {
    "collapsed": false
   },
   "outputs": [
    {
     "name": "stderr",
     "output_type": "stream",
     "text": [
      "Using Theano backend.\n",
      "Using gpu device 0: GeForce GTX 960 (CNMeM is disabled, cuDNN 4007)\n"
     ]
    }
   ],
   "source": [
    "import time\n",
    "import matplotlib.pyplot as plt\n",
    "import numpy as np\n",
    "import pandas as pd\n",
    "from keras.layers.core import Dense, Activation, Dropout\n",
    "from keras.layers.recurrent import LSTM\n",
    "from keras.models import Sequential"
   ]
  },
  {
   "cell_type": "code",
   "execution_count": 2,
   "metadata": {
    "collapsed": false
   },
   "outputs": [],
   "source": [
    "# Set a random seed to reproduce the results\n",
    "np.random.seed(1234)\n",
    "\n",
    "# Load the volume data\n",
    "volume_data = pd.read_csv('../data/volume_data.csv', header=None)"
   ]
  },
  {
   "cell_type": "code",
   "execution_count": 3,
   "metadata": {
    "collapsed": false
   },
   "outputs": [],
   "source": [
    "all_hfs = pd.read_csv('../data/hf_list.csv')\n",
    "\n",
    "used_hfs = [15773]\n",
    "\n",
    "def find_index_hf(hf_no):\n",
    "    return all_hfs[all_hfs['GID'] == hf_no].index.tolist()[0]\n",
    "\n",
    "hfs = [find_index_hf(hf_no) for hf_no in used_hfs]"
   ]
  },
  {
   "cell_type": "code",
   "execution_count": 4,
   "metadata": {
    "collapsed": true
   },
   "outputs": [],
   "source": [
    "maxs = []\n",
    "means = []\n",
    "# Return a training and test data for a site.\n",
    "def train_test_traffic_data(sitenum, sequence_length=100):\n",
    "    site_traffic = volume_data[find_index_hf(sitenum)]\n",
    "    mean_t = int(site_traffic.mean())\n",
    "    site_traffic = site_traffic.replace(0, mean_t).values\n",
    "    means.append(site_traffic.mean())\n",
    "    maxs.append(site_traffic.max())\n",
    "    site_traffic = (site_traffic - site_traffic.mean()) / site_traffic.max()\n",
    "    result = []\n",
    "    for index in range(len(site_traffic) - sequence_length):\n",
    "        result.append(site_traffic[index: index + sequence_length])\n",
    "    result = np.array(result)\n",
    "    row = round(0.9 * result.shape[0])\n",
    "    train = result[:row, :]\n",
    "    np.random.shuffle(train)\n",
    "    X_train = train[:, :-1]\n",
    "    y_train = train[:, -1]\n",
    "    X_test = result[row:, :-1]\n",
    "    y_test = result[row:, -1]\n",
    "\n",
    "    X_train = np.reshape(X_train, (X_train.shape[0], X_train.shape[1], 1))\n",
    "    X_test = np.reshape(X_test, (X_test.shape[0], X_test.shape[1], 1))\n",
    "\n",
    "    return [X_train, y_train, X_test, y_test]"
   ]
  },
  {
   "cell_type": "code",
   "execution_count": 5,
   "metadata": {
    "collapsed": true
   },
   "outputs": [],
   "source": [
    "def build_model():\n",
    "    mdl = Sequential()\n",
    "    # a network with 1-dimensional input,\n",
    "    # two hidden layers of sizes 50 and 100\n",
    "    # and eventually a 1-dimensional output layer\n",
    "    layers = [1, 50, 100, 1]\n",
    "\n",
    "    # We also add 20% Dropout in this layer.\n",
    "    mdl.add(LSTM(\n",
    "        input_dim=layers[0],\n",
    "        output_dim=layers[1],\n",
    "        return_sequences=True))\n",
    "    mdl.add(Dropout(0.2))\n",
    "\n",
    "    # 2nd hidden layer\n",
    "    mdl.add(LSTM(\n",
    "        layers[2],\n",
    "        return_sequences=False))\n",
    "    mdl.add(Dropout(0.2))\n",
    "\n",
    "    # last layer we use is a Dense layer ( = feedforward).\n",
    "    # Since we are doing a regression, its activation is linear\n",
    "    mdl.add(Dense(\n",
    "        output_dim=layers[3]))\n",
    "    mdl.add(Activation(\"linear\"))\n",
    "\n",
    "    start = time.time()\n",
    "    mdl.compile(loss=\"mse\", optimizer=\"rmsprop\")\n",
    "    print(\"Compilation Time : \", time.time() - start)\n",
    "    return mdl"
   ]
  },
  {
   "cell_type": "code",
   "execution_count": 6,
   "metadata": {
    "collapsed": false
   },
   "outputs": [],
   "source": [
    "def run_network(mdl=None, data=None):\n",
    "    global_start_time = time.time()\n",
    "    epochs = 5\n",
    "    sequence_length = 50\n",
    "\n",
    "    if data is None:\n",
    "        print('Loading data... ')\n",
    "        X_train, y_train, X_test, y_test = train_test_traffic_data(15773, sequence_length)\n",
    "    else:\n",
    "        X_train, y_train, X_test, y_test = data\n",
    "\n",
    "    print('\\nData Loaded. Compiling...\\n')\n",
    "\n",
    "    if mdl is None:\n",
    "        mdl = build_model()\n",
    "\n",
    "    try:\n",
    "        mdl.fit(X_train, y_train, batch_size=512,\n",
    "                nb_epoch=epochs, validation_split=0.05)\n",
    "        predicted_trffic = mdl.predict(X_test)\n",
    "        predicted_trffic = np.reshape(predicted_trffic, (predicted_trffic.size,))\n",
    "    except KeyboardInterrupt:\n",
    "        print('Training duration (s) : ', time.time() - global_start_time)\n",
    "        return mdl, y_test, 0\n",
    "\n",
    "    print('Training duration (s) : ', time.time() - global_start_time)\n",
    "\n",
    "    return mdl, y_test, predicted_trffic"
   ]
  },
  {
   "cell_type": "code",
   "execution_count": 7,
   "metadata": {
    "collapsed": false
   },
   "outputs": [],
   "source": [
    "data = train_test_traffic_data(15773, 50)"
   ]
  },
  {
   "cell_type": "code",
   "execution_count": 8,
   "metadata": {
    "collapsed": false
   },
   "outputs": [
    {
     "name": "stdout",
     "output_type": "stream",
     "text": [
      "\n",
      "Data Loaded. Compiling...\n",
      "\n",
      "Compilation Time :  0.14050936698913574\n",
      "Train on 166825 samples, validate on 8781 samples\n",
      "Epoch 1/5\n",
      "166825/166825 [==============================] - 49s - loss: 0.0088 - val_loss: 0.0063\n",
      "Epoch 2/5\n",
      "166825/166825 [==============================] - 49s - loss: 0.0066 - val_loss: 0.0057\n",
      "Epoch 3/5\n",
      "166825/166825 [==============================] - 49s - loss: 0.0062 - val_loss: 0.0055\n",
      "Epoch 4/5\n",
      "166825/166825 [==============================] - 49s - loss: 0.0059 - val_loss: 0.0053\n",
      "Epoch 5/5\n",
      "166825/166825 [==============================] - 49s - loss: 0.0058 - val_loss: 0.0052\n",
      "Training duration (s) :  281.9164927005768\n"
     ]
    }
   ],
   "source": [
    "model, y_test, predicted = run_network(data=data)"
   ]
  },
  {
   "cell_type": "code",
   "execution_count": 9,
   "metadata": {
    "collapsed": false
   },
   "outputs": [],
   "source": [
    "def plot_predictions(y_test, predicted):\n",
    "    x = np.arange(400)\n",
    "    plt.plot(x, y_test[:400], label='Actual')\n",
    "    plt.plot(x, predicted[:400], label='Predicted')\n",
    "    plt.legend(loc=2)\n",
    "    plt.savefig('../latex-thesis/Figures/lstm-single.pdf')"
   ]
  },
  {
   "cell_type": "code",
   "execution_count": 10,
   "metadata": {
    "collapsed": true
   },
   "outputs": [],
   "source": [
    "from sklearn.metrics import mean_absolute_error, mean_squared_error\n",
    "def mean_absolute_percentage_error(y_true, y_pred):\n",
    "    return np.mean(np.abs((y_true - y_pred) / y_true)) * 100\n",
    "\n",
    "def print_scores(actual, predictions):\n",
    "    print(\"MAE=\", mean_absolute_error(actual, predictions))\n",
    "    print(\"MSE=\", mean_squared_error(actual, predictions))\n",
    "    print(\"MAPE=\", mean_absolute_percentage_error(actual, predictions))"
   ]
  },
  {
   "cell_type": "code",
   "execution_count": 11,
   "metadata": {
    "collapsed": false
   },
   "outputs": [],
   "source": [
    "y_test = (y_test * maxs[0]) + means[0]\n",
    "predicted = (predicted * maxs[0]) + means[0]\n",
    "plot_predictions(y_test, predicted)"
   ]
  },
  {
   "cell_type": "code",
   "execution_count": 12,
   "metadata": {
    "collapsed": false
   },
   "outputs": [
    {
     "name": "stdout",
     "output_type": "stream",
     "text": [
      "MAE= 13.9900221077\n",
      "MSE= 414.385094969\n",
      "MAPE= 17.813968528\n"
     ]
    }
   ],
   "source": [
    "print_scores(y_test, predicted)"
   ]
  },
  {
   "cell_type": "code",
   "execution_count": 16,
   "metadata": {
    "collapsed": false
   },
   "outputs": [],
   "source": [
    "plot_predictions(y_test, predicted)"
   ]
  },
  {
   "cell_type": "code",
   "execution_count": 15,
   "metadata": {
    "collapsed": true
   },
   "outputs": [],
   "source": [
    "plt.close()"
   ]
  },
  {
   "cell_type": "code",
   "execution_count": null,
   "metadata": {
    "collapsed": true
   },
   "outputs": [],
   "source": []
  }
 ],
 "metadata": {
  "kernelspec": {
   "display_name": "Python 3.5",
   "language": "python",
   "name": "python3.4"
  },
  "language_info": {
   "codemirror_mode": {
    "name": "ipython",
    "version": 3
   },
   "file_extension": ".py",
   "mimetype": "text/x-python",
   "name": "python",
   "nbconvert_exporter": "python",
   "pygments_lexer": "ipython3",
   "version": "3.5.1"
  }
 },
 "nbformat": 4,
 "nbformat_minor": 0
}
