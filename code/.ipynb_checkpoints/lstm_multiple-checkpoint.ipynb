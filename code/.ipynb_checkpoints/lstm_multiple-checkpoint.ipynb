{
 "cells": [
  {
   "cell_type": "code",
   "execution_count": 1,
   "metadata": {
    "collapsed": false
   },
   "outputs": [
    {
     "name": "stderr",
     "output_type": "stream",
     "text": [
      "Using Theano backend.\n",
      "Using gpu device 0: GeForce GTX 960 (CNMeM is disabled, cuDNN 4007)\n"
     ]
    }
   ],
   "source": [
    "import time\n",
    "import matplotlib.pyplot as plt\n",
    "import numpy as np\n",
    "import pandas as pd\n",
    "from keras.layers.core import Dense, Activation, Dropout\n",
    "from keras.layers.recurrent import LSTM\n",
    "from keras.models import Sequential"
   ]
  },
  {
   "cell_type": "code",
   "execution_count": 2,
   "metadata": {
    "collapsed": false
   },
   "outputs": [],
   "source": [
    "# Set a random seed to reproduce the results\n",
    "np.random.seed(1234)\n",
    "\n",
    "# Load the volume data\n",
    "volume_data = pd.read_csv('../data/volume_data.csv', header=None)"
   ]
  },
  {
   "cell_type": "code",
   "execution_count": 3,
   "metadata": {
    "collapsed": false
   },
   "outputs": [],
   "source": [
    "all_hfs = pd.read_csv('../data/hf_list.csv')\n",
    "\n",
    "used_hfs = [3592,15773]\n",
    "\n",
    "def find_index_hf(hf_no):\n",
    "    return all_hfs[all_hfs['GID'] == hf_no].index.tolist()[0]\n",
    "\n",
    "hfs = [find_index_hf(hf_no) for hf_no in used_hfs]\n",
    "\n",
    "means = []\n",
    "maxs = []"
   ]
  },
  {
   "cell_type": "code",
   "execution_count": 4,
   "metadata": {
    "collapsed": true
   },
   "outputs": [],
   "source": [
    "# Return a training and test data for a site.\n",
    "def train_test_traffic_data(sequence_length=50):\n",
    "    sample_size = volume_data.shape[0]\n",
    "    result = []\n",
    "    # scale data\n",
    "    # Create data\n",
    "    for j in hfs:\n",
    "        road_vol = volume_data[j]\n",
    "        road_vol = road_vol.replace(0, int(road_vol.mean())).values\n",
    "        means.append(road_vol.mean())\n",
    "        maxs.append(road_vol.max())\n",
    "        road_vol = (road_vol - road_vol.mean())/road_vol.max()\n",
    "        temp = []\n",
    "        for i in range(0, sample_size - sequence_length):\n",
    "            temp.append(road_vol[i: i + sequence_length])\n",
    "        result.append(temp)\n",
    "\n",
    "    result = np.dstack(result)\n",
    "    row = round(0.9 * result.shape[0])\n",
    "    train = result[:row, :, :]\n",
    "    np.random.shuffle(train)\n",
    "    X_train = train[:, :-1, :]\n",
    "    y_train = train[:, -1, :]\n",
    "    X_test = result[row:, :-1, :]\n",
    "    y_test = result[row:, -1, :]\n",
    "\n",
    "    return [X_train, y_train, X_test, y_test]"
   ]
  },
  {
   "cell_type": "code",
   "execution_count": 5,
   "metadata": {
    "collapsed": true
   },
   "outputs": [],
   "source": [
    "def build_model():\n",
    "    mdl = Sequential()\n",
    "    io_dim = len(hfs)\n",
    "    # a network with 1-dimensional input,\n",
    "    # two hidden layers of sizes 50, 100 and 100\n",
    "    # and eventually a 1-dimensional output layer\n",
    "    layers = [io_dim, 100, 200, 200, io_dim]\n",
    "\n",
    "    # We also add 20% Dropout in this layer.\n",
    "    mdl.add(LSTM(\n",
    "        input_dim=layers[0],\n",
    "        output_dim=layers[1],\n",
    "        return_sequences=True))\n",
    "    mdl.add(Dropout(0.2))\n",
    "    \n",
    "    # 2nd hidden layer\n",
    "    mdl.add(LSTM(\n",
    "        layers[2],\n",
    "        return_sequences=True))\n",
    "    mdl.add(Dropout(0.2))\n",
    "\n",
    "    # 3rd hidden layer\n",
    "    mdl.add(LSTM(\n",
    "        layers[3],\n",
    "        return_sequences=False))\n",
    "    mdl.add(Dropout(0.2))\n",
    "\n",
    "    # last layer we use is a Dense layer ( = feedforward).\n",
    "    # Since we are doing a regression, its activation is linear\n",
    "    mdl.add(Dense(\n",
    "        output_dim=layers[4]))\n",
    "    mdl.add(Activation(\"linear\"))\n",
    "\n",
    "    start = time.time()\n",
    "    mdl.compile(loss=\"mse\", optimizer=\"rmsprop\")\n",
    "    print(\"Compilation Time : \", time.time() - start)\n",
    "    return mdl"
   ]
  },
  {
   "cell_type": "code",
   "execution_count": 6,
   "metadata": {
    "collapsed": false
   },
   "outputs": [],
   "source": [
    "def run_network(mdl=None, data=None):\n",
    "    global_start_time = time.time()\n",
    "    epochs = 10\n",
    "    sequence_length = 50\n",
    "\n",
    "    if data is None:\n",
    "        print('Loading data... ')\n",
    "        X_train, y_train, X_test, y_test = train_test_traffic_data(sequence_length)\n",
    "    else:\n",
    "        X_train, y_train, X_test, y_test = data\n",
    "\n",
    "    print('\\nData Loaded. Compiling...\\n')\n",
    "\n",
    "    if mdl is None:\n",
    "        mdl = build_model()\n",
    "\n",
    "    try:\n",
    "        mdl.fit(X_train, y_train, batch_size=512,\n",
    "                nb_epoch=epochs, validation_split=0.05)\n",
    "        predicted_trffic = mdl.predict(X_test)\n",
    "    except KeyboardInterrupt:\n",
    "        print('Training duration (s) : ', time.time() - global_start_time)\n",
    "        return mdl, y_test, 0\n",
    "\n",
    "    print('Training duration (s) : ', time.time() - global_start_time)\n",
    "\n",
    "    return mdl, y_test, predicted_trffic"
   ]
  },
  {
   "cell_type": "code",
   "execution_count": 7,
   "metadata": {
    "collapsed": false
   },
   "outputs": [],
   "source": [
    "data = train_test_traffic_data(100)"
   ]
  },
  {
   "cell_type": "code",
   "execution_count": 8,
   "metadata": {
    "collapsed": false
   },
   "outputs": [
    {
     "name": "stdout",
     "output_type": "stream",
     "text": [
      "\n",
      "Data Loaded. Compiling...\n",
      "\n",
      "Compilation Time :  0.2087421417236328\n",
      "Train on 166782 samples, validate on 8779 samples\n",
      "Epoch 1/10\n",
      "166782/166782 [==============================] - 308s - loss: 0.0147 - val_loss: 0.0057\n",
      "Epoch 2/10\n",
      "166782/166782 [==============================] - 310s - loss: 0.0061 - val_loss: 0.0049\n",
      "Epoch 3/10\n",
      "166782/166782 [==============================] - 311s - loss: 0.0055 - val_loss: 0.0050\n",
      "Epoch 4/10\n",
      "166782/166782 [==============================] - 310s - loss: 0.0053 - val_loss: 0.0046\n",
      "Epoch 5/10\n",
      "166782/166782 [==============================] - 309s - loss: 0.0051 - val_loss: 0.0044\n",
      "Epoch 6/10\n",
      "166782/166782 [==============================] - 309s - loss: 0.0050 - val_loss: 0.0044\n",
      "Epoch 7/10\n",
      "166782/166782 [==============================] - 309s - loss: 0.0048 - val_loss: 0.0042\n",
      "Epoch 8/10\n",
      "166782/166782 [==============================] - 309s - loss: 0.0047 - val_loss: 0.0041\n",
      "Epoch 9/10\n",
      "166782/166782 [==============================] - 310s - loss: 0.0047 - val_loss: 0.0041\n",
      "Epoch 10/10\n",
      "166782/166782 [==============================] - 310s - loss: 0.0046 - val_loss: 0.0042\n",
      "Training duration (s) :  3180.504916906357\n"
     ]
    }
   ],
   "source": [
    "model, y_test, predicted = run_network(data=data)"
   ]
  },
  {
   "cell_type": "code",
   "execution_count": 9,
   "metadata": {
    "collapsed": false
   },
   "outputs": [],
   "source": [
    "def plot_predictions(y_test, predicted):\n",
    "    x = np.arange(300)\n",
    "    y_test_tp = np.transpose(y_test)\n",
    "    pred_tp = np.transpose(predicted)\n",
    "    for i in range(2):\n",
    "        actual = y_test_tp[i][:300]\n",
    "        predictions = pred_tp[i][:300]\n",
    "        actual = (actual * maxs[i]) + means[i]\n",
    "        predictions = (predictions * maxs[i]) + means[i]\n",
    "        plt.plot(x,actual, label='Actual')\n",
    "        plt.plot(x,predictions, label='Predicted')\n",
    "        plt.legend(loc=2)\n",
    "        plt.savefig('../latex-thesis/Figures/lstm-multi'+ str(i) + '.pdf')\n",
    "        plt.close()"
   ]
  },
  {
   "cell_type": "code",
   "execution_count": 22,
   "metadata": {
    "collapsed": false
   },
   "outputs": [],
   "source": [
    "def mean_absolute_percentage_error(y_true, y_pred):\n",
    "    return np.mean(np.abs((y_true - y_pred) / y_true)) * 100"
   ]
  },
  {
   "cell_type": "code",
   "execution_count": 32,
   "metadata": {
    "collapsed": true
   },
   "outputs": [],
   "source": [
    "from sklearn.metrics import mean_absolute_error, mean_squared_error\n",
    "def print_scores(y_test, predicted):\n",
    "    y_test_tp = np.transpose(y_test)\n",
    "    pred_tp = np.transpose(predicted)\n",
    "    mae = []\n",
    "    mse = []\n",
    "    mape = []\n",
    "    for i in range(2):\n",
    "        actual = y_test_tp[i]\n",
    "        predictions = pred_tp[i]\n",
    "        actual = (actual * maxs[i]) + means[i]\n",
    "        predictions = (predictions * maxs[i]) + means[i]\n",
    "        mae.append(mean_absolute_error(actual, predictions))\n",
    "        mse.append(mean_squared_error(actual, predictions))\n",
    "        mape.append(mean_absolute_percentage_error(actual, predictions))\n",
    "    print(\"MAE=\", np.array(mae).mean())\n",
    "    print(\"MSE=\", np.array(mse).mean())\n",
    "    print(\"MAPE=\", np.array(mape).mean())"
   ]
  },
  {
   "cell_type": "code",
   "execution_count": 11,
   "metadata": {
    "collapsed": false
   },
   "outputs": [],
   "source": [
    "plot_predictions(y_test, predicted)"
   ]
  },
  {
   "cell_type": "code",
   "execution_count": 33,
   "metadata": {
    "collapsed": false
   },
   "outputs": [
    {
     "name": "stdout",
     "output_type": "stream",
     "text": [
      "MAE= 19.250430475\n",
      "MSE= 732.009842938\n",
      "MAPE= 17.4840439904\n"
     ]
    }
   ],
   "source": [
    "print_scores(y_test, predicted)"
   ]
  }
 ],
 "metadata": {
  "kernelspec": {
   "display_name": "Python 3.5",
   "language": "python",
   "name": "python3.4"
  },
  "language_info": {
   "codemirror_mode": {
    "name": "ipython",
    "version": 3
   },
   "file_extension": ".py",
   "mimetype": "text/x-python",
   "name": "python",
   "nbconvert_exporter": "python",
   "pygments_lexer": "ipython3",
   "version": "3.5.1"
  }
 },
 "nbformat": 4,
 "nbformat_minor": 0
}
