{
 "cells": [
  {
   "cell_type": "code",
   "execution_count": 1,
   "metadata": {
    "collapsed": false
   },
   "outputs": [
    {
     "name": "stderr",
     "output_type": "stream",
     "text": [
      "Using Theano backend.\n",
      "Using gpu device 0: GeForce GTX 960 (CNMeM is disabled, cuDNN 4007)\n"
     ]
    }
   ],
   "source": [
    "from sklearn.metrics import mean_absolute_error, mean_squared_error\n",
    "\n",
    "import time\n",
    "import matplotlib.pyplot as plt\n",
    "import numpy as np\n",
    "import pandas as pd\n",
    "from keras.layers.core import Dense, Activation, Dropout\n",
    "from keras.layers.recurrent import SimpleRNN,GRU,LSTM\n",
    "from keras.models import Sequential\n",
    "import plotly\n",
    "from plotly.graph_objs import Scatter, Layout\n",
    "import plotly.graph_objs as go\n",
    "# Set a random seed to reproduce the results\n",
    "np.random.seed(1234)"
   ]
  },
  {
   "cell_type": "code",
   "execution_count": 2,
   "metadata": {
    "collapsed": true
   },
   "outputs": [],
   "source": [
    "# Load the volume data\n",
    "volume_data = pd.read_csv('../data/volume_data.csv', header=None)\n",
    "scaler = None\n",
    "all_hfs = pd.read_csv('../data/hf_list.csv')\n",
    "\n",
    "def find_index_hf(hf_no):\n",
    "    return all_hfs[all_hfs['HF'] == hf_no].index.tolist()[0]"
   ]
  },
  {
   "cell_type": "code",
   "execution_count": 3,
   "metadata": {
    "collapsed": true
   },
   "outputs": [],
   "source": [
    "maxs = []\n",
    "mins = []\n",
    "means = []\n",
    "stds = []"
   ]
  },
  {
   "cell_type": "code",
   "execution_count": 4,
   "metadata": {
    "collapsed": false
   },
   "outputs": [],
   "source": [
    "# Return a training and test data for a site.\n",
    "def train_test_traffic_data(sitenum, sequence_length, horizon, standardise=True):\n",
    "    global maxs\n",
    "    global mins\n",
    "    global means\n",
    "    global stds\n",
    "    maxs = []\n",
    "    mins = []\n",
    "    means = []\n",
    "    stds = []\n",
    "    site_traffic = volume_data[find_index_hf(sitenum)]\n",
    "    # Keep data till 30th June 2012\n",
    "    site_traffic= site_traffic[:-2400]\n",
    "    site_traffic = site_traffic.replace(0, np.nan) \n",
    "    site_traffic = site_traffic.interpolate().values \n",
    "    \n",
    "    if horizon == 30:\n",
    "        site_traffic = site_traffic[0::2] + site_traffic[1::2] \n",
    "    elif horizon == 45:\n",
    "        site_traffic = site_traffic[0::3] + site_traffic[1::3] + site_traffic[2::3]\n",
    "        \n",
    "    mean_t = site_traffic.mean()\n",
    "    max_t = site_traffic.max()\n",
    "    min_t = site_traffic.min()\n",
    "    std_t = np.std(site_traffic)\n",
    "    print(\"Max-\",max_t,\"-mean-\",mean_t, \"-min-\",min_t)\n",
    "    mins.append(min_t)\n",
    "    maxs.append(max_t)\n",
    "    means.append(mean_t)\n",
    "    stds.append(std_t)\n",
    "    \n",
    "    if standardise: \n",
    "        site_traffic = (site_traffic - mean_t) / std_t\n",
    "    result = []\n",
    "    for index in range(len(site_traffic) - sequence_length):\n",
    "        result.append(site_traffic[index: index + sequence_length])\n",
    "    result = np.array(result)\n",
    "    # We test only last 30 days = 30 * 96 = 2880\n",
    "    row = result.shape[0] - 2880\n",
    "    train = result[:row, :]\n",
    "    np.random.shuffle(train)\n",
    "    X_train = train[:, :-1]\n",
    "    y_train = train[:, -1]\n",
    "    X_test = result[row:, :-1]\n",
    "    y_test = result[row:, -1]\n",
    "\n",
    "    return [X_train, y_train, X_test, y_test]"
   ]
  },
  {
   "cell_type": "code",
   "execution_count": 5,
   "metadata": {
    "collapsed": true
   },
   "outputs": [],
   "source": [
    "def simple_rnn_model():\n",
    "    mdl = Sequential()\n",
    "    # a network with 1-dimensional input,\n",
    "    # two hidden layers of sizes 100 and 100\n",
    "    # and eventually a 1-dimensional output layer\n",
    "    layers = [1, 100, 100, 1]\n",
    "\n",
    "    # We also add 10% Dropout in this layer.\n",
    "    mdl.add(SimpleRNN(\n",
    "        input_dim=layers[0],\n",
    "        output_dim=layers[1],\n",
    "        return_sequences=True))\n",
    "    mdl.add(Dropout(0.1))\n",
    "\n",
    "    # 2nd hidden layer\n",
    "    mdl.add(SimpleRNN(\n",
    "        layers[2],\n",
    "        return_sequences=False))\n",
    "    mdl.add(Dropout(0.1))\n",
    "\n",
    "    # last layer we use is a Dense layer ( = feedforward).\n",
    "    # Since we are doing a regression, its activation is linear\n",
    "    mdl.add(Dense(\n",
    "        output_dim=layers[3]))\n",
    "    mdl.add(Activation(\"linear\"))\n",
    "\n",
    "    start = time.time()\n",
    "    mdl.compile(loss=\"mse\", optimizer=\"adam\")\n",
    "    print(\"Compilation Time : \", time.time() - start)\n",
    "    return mdl"
   ]
  },
  {
   "cell_type": "code",
   "execution_count": 6,
   "metadata": {
    "collapsed": true
   },
   "outputs": [],
   "source": [
    "def gru_model():\n",
    "    mdl = Sequential()\n",
    "    # a network with 1-dimensional input,\n",
    "    # two hidden layers of sizes 50 and 100\n",
    "    # and eventually a 1-dimensional output layer\n",
    "    layers = [1, 100, 100, 1]\n",
    "\n",
    "    # We also add 20% Dropout in this layer.\n",
    "    mdl.add(GRU(\n",
    "        input_dim=layers[0],\n",
    "        output_dim=layers[1],\n",
    "        return_sequences=True))\n",
    "    mdl.add(Dropout(0.2))\n",
    "\n",
    "    # 2nd hidden layer\n",
    "    mdl.add(GRU(\n",
    "        layers[2],\n",
    "        return_sequences=False))\n",
    "    mdl.add(Dropout(0.2))\n",
    "    \n",
    "\n",
    "    # last layer we use is a Dense layer ( = feedforward).\n",
    "    # Since we are doing a regression, its activation is linear\n",
    "    mdl.add(Dense(\n",
    "        output_dim=layers[3]))\n",
    "    mdl.add(Activation(\"linear\"))\n",
    "\n",
    "    start = time.time()\n",
    "    mdl.compile(loss=\"mse\", optimizer=\"adam\")\n",
    "    print(\"Compilation Time : \", time.time() - start)\n",
    "    return mdl"
   ]
  },
  {
   "cell_type": "code",
   "execution_count": 7,
   "metadata": {
    "collapsed": true
   },
   "outputs": [],
   "source": [
    "def lstm_model():\n",
    "    mdl = Sequential()\n",
    "    # a network with 1-dimensional input,\n",
    "    # two hidden layers of sizes 50 and 100\n",
    "    # and eventually a 1-dimensional output layer\n",
    "    layers = [1, 100, 200, 1]\n",
    "\n",
    "    # We also add 20% Dropout in this layer.\n",
    "    mdl.add(LSTM(\n",
    "        input_dim=layers[0],\n",
    "        output_dim=layers[1],\n",
    "        return_sequences=True))\n",
    "    mdl.add(Dropout(0.2))\n",
    "\n",
    "    # 2nd hidden layer\n",
    "    mdl.add(LSTM(\n",
    "        layers[2],\n",
    "        return_sequences=False))\n",
    "    mdl.add(Dropout(0.2))\n",
    "    \n",
    "    # last layer we use is a Dense layer ( = feedforward).\n",
    "    # Since we are doing a regression, its activation is linear\n",
    "    mdl.add(Dense(\n",
    "        output_dim=layers[3]))\n",
    "    mdl.add(Activation(\"linear\"))\n",
    "\n",
    "    start = time.time()\n",
    "    mdl.compile(loss=\"mse\", optimizer=\"adam\")\n",
    "    print(\"Compilation Time : \", time.time() - start)\n",
    "    return mdl"
   ]
  },
  {
   "cell_type": "code",
   "execution_count": 8,
   "metadata": {
    "collapsed": false
   },
   "outputs": [],
   "source": [
    "def run_network(data, mdl_type):\n",
    "    global_start_time = time.time()\n",
    "    epochs = 20\n",
    "    \n",
    "    X_train, y_train, X_test, y_test = data\n",
    "    \n",
    "    X_train = np.reshape(X_train, (X_train.shape[0], X_train.shape[1], 1))\n",
    "    X_test = np.reshape(X_test, (X_test.shape[0], X_test.shape[1], 1))\n",
    "\n",
    "    print('\\nData Loaded. Compiling...\\n')\n",
    "\n",
    "    if mdl_type == 'rnn':\n",
    "        mdl = simple_rnn_model()\n",
    "    elif mdl_type == 'gru':\n",
    "        mdl = gru_model()\n",
    "    elif mdl_type == 'lstm':\n",
    "        mdl = lstm_model()\n",
    "    else:\n",
    "        return\n",
    "       \n",
    "    try:\n",
    "        mdl.fit(X_train, y_train, batch_size=512,\n",
    "                nb_epoch=epochs, validation_split=0.05)\n",
    "        predicted_trffic = mdl.predict(X_test)\n",
    "        predicted_trffic = np.reshape(predicted_trffic, (predicted_trffic.size,))\n",
    "    except KeyboardInterrupt:\n",
    "        print('Training duration (s) : ', time.time() - global_start_time)\n",
    "        return mdl, y_test, 0\n",
    "\n",
    "    print('Training duration (s) : ', time.time() - global_start_time)\n",
    "    \n",
    "    y_test = y_test * stds[0] + means[0]\n",
    "    predicted_trffic = predicted_trffic * stds[0] + means[0]\n",
    "    \n",
    "    return mdl, y_test, predicted_trffic"
   ]
  },
  {
   "cell_type": "code",
   "execution_count": 9,
   "metadata": {
    "collapsed": true
   },
   "outputs": [],
   "source": [
    "from sklearn.svm import SVR\n",
    "def svm_model(data):\n",
    "    global_start_time = time.time()\n",
    "    \n",
    "    X_train, y_train, X_test, y_test = data\n",
    "\n",
    "    print('\\nData Loaded..., training model\\n')\n",
    "\n",
    "    mdl = SVR(cache_size=2048)\n",
    "        \n",
    "    try:\n",
    "        mdl.fit(X_train, y_train)\n",
    "        predicted_trffic = mdl.predict(X_test)\n",
    "    except KeyboardInterrupt:\n",
    "        print('Training duration (s) : ', time.time() - global_start_time)\n",
    "        return mdl, y_test, 0\n",
    "\n",
    "    print('Training duration (s) : ', time.time() - global_start_time)\n",
    "\n",
    "    y_test = y_test * stds[0] + means[0]\n",
    "    predicted_trffic = predicted_trffic * stds[0] + means[0]\n",
    "    \n",
    "    return mdl, y_test, predicted_trffic"
   ]
  },
  {
   "cell_type": "code",
   "execution_count": 10,
   "metadata": {
    "collapsed": true
   },
   "outputs": [],
   "source": [
    "from sklearn.neighbors import KNeighborsRegressor\n",
    "def knn_model(data):\n",
    "    global_start_time = time.time()\n",
    "  \n",
    "    X_train, y_train, X_test, y_test = data\n",
    "    \n",
    "    print('\\nData Loaded...training model\\n')\n",
    "\n",
    "    mdl = KNeighborsRegressor(5, weights='distance')\n",
    "        \n",
    "    try:\n",
    "        mdl.fit(X_train, y_train)\n",
    "        predicted_trffic = mdl.predict(X_test)\n",
    "    except KeyboardInterrupt:\n",
    "        print('Training duration (s) : ', time.time() - global_start_time)\n",
    "        return mdl, y_test, 0\n",
    "\n",
    "    print('Training duration (s) : ', time.time() - global_start_time)\n",
    "        \n",
    "    return mdl, y_test, predicted_trffic"
   ]
  },
  {
   "cell_type": "code",
   "execution_count": 11,
   "metadata": {
    "collapsed": true
   },
   "outputs": [],
   "source": [
    "def plot_predictions(y_test, predicted, horizon):\n",
    "    t = pd.date_range('6/1/2012', freq=(str(horizon)+'Min'), periods=(30*96*15)/horizon)\n",
    "    trace0 = go.Scatter(\n",
    "        x = t,\n",
    "        y = y_test,\n",
    "        name = 'Actual')\n",
    "    trace1 = go.Scatter(\n",
    "        x = t,\n",
    "        y = predicted,\n",
    "        name = 'Predicted')\n",
    "    data = [trace0, trace1]\n",
    "\n",
    "    layout = dict(xaxis = dict(title = 'Time'),\n",
    "                  yaxis = dict(title = 'Volume'),\n",
    "                  width = 600, height = 450)\n",
    "\n",
    "    fig = dict(data=data, layout=layout)\n",
    "    plotly.offline.plot(fig)"
   ]
  },
  {
   "cell_type": "code",
   "execution_count": 12,
   "metadata": {
    "collapsed": true
   },
   "outputs": [],
   "source": [
    "import math\n",
    "def mean_absolute_percentage_error(y_true, y_pred):\n",
    "    return np.mean(np.abs((y_true - y_pred) / y_true)) * 100\n",
    "\n",
    "def print_scores(actual, predictions):\n",
    "    print(\"MAE=\", mean_absolute_error(actual, predictions))\n",
    "    print(\"RMSE=\", math.sqrt(mean_squared_error(actual, predictions)))\n",
    "    print(\"MAPE=\", mean_absolute_percentage_error(actual, predictions))"
   ]
  },
  {
   "cell_type": "code",
   "execution_count": 13,
   "metadata": {
    "collapsed": false
   },
   "outputs": [
    {
     "name": "stdout",
     "output_type": "stream",
     "text": [
      "Max- 908.0 -mean- 224.104820302 -min- 1.0\n"
     ]
    }
   ],
   "source": [
    "data = train_test_traffic_data(16913, 50, 15)"
   ]
  },
  {
   "cell_type": "code",
   "execution_count": 14,
   "metadata": {
    "collapsed": false,
    "scrolled": false
   },
   "outputs": [
    {
     "name": "stdout",
     "output_type": "stream",
     "text": [
      "\n",
      "Data Loaded. Compiling...\n",
      "\n",
      "Compilation Time :  0.08252692222595215\n",
      "Train on 180346 samples, validate on 9492 samples\n",
      "Epoch 1/20\n",
      "180346/180346 [==============================] - 14s - loss: 0.1349 - val_loss: 0.0718\n",
      "Epoch 2/20\n",
      "180346/180346 [==============================] - 14s - loss: 0.0888 - val_loss: 0.0751\n",
      "Epoch 3/20\n",
      "180346/180346 [==============================] - 14s - loss: 0.0820 - val_loss: 0.0703\n",
      "Epoch 4/20\n",
      "180346/180346 [==============================] - 14s - loss: 0.0788 - val_loss: 0.0700\n",
      "Epoch 5/20\n",
      "180346/180346 [==============================] - 14s - loss: 0.0774 - val_loss: 0.0687\n",
      "Epoch 6/20\n",
      "180346/180346 [==============================] - 14s - loss: 0.0763 - val_loss: 0.0676\n",
      "Epoch 7/20\n",
      "180346/180346 [==============================] - 14s - loss: 0.0755 - val_loss: 0.0691\n",
      "Epoch 8/20\n",
      "180346/180346 [==============================] - 14s - loss: 0.0751 - val_loss: 0.0675\n",
      "Epoch 9/20\n",
      "180346/180346 [==============================] - 14s - loss: 0.0748 - val_loss: 0.0680\n",
      "Epoch 10/20\n",
      "180346/180346 [==============================] - 14s - loss: 0.0744 - val_loss: 0.0668\n",
      "Epoch 11/20\n",
      "180346/180346 [==============================] - 14s - loss: 0.0738 - val_loss: 0.0695\n",
      "Epoch 12/20\n",
      "180346/180346 [==============================] - 14s - loss: 0.0736 - val_loss: 0.0682\n",
      "Epoch 13/20\n",
      "180346/180346 [==============================] - 14s - loss: 0.0735 - val_loss: 0.0673\n",
      "Epoch 14/20\n",
      "180346/180346 [==============================] - 14s - loss: 0.0734 - val_loss: 0.0681\n",
      "Epoch 15/20\n",
      "180346/180346 [==============================] - 14s - loss: 0.0730 - val_loss: 0.0746\n",
      "Epoch 16/20\n",
      "180346/180346 [==============================] - 14s - loss: 0.0729 - val_loss: 0.0663\n",
      "Epoch 17/20\n",
      "180346/180346 [==============================] - 14s - loss: 0.0724 - val_loss: 0.0652\n",
      "Epoch 18/20\n",
      "180346/180346 [==============================] - 14s - loss: 0.0725 - val_loss: 0.0697\n",
      "Epoch 19/20\n",
      "180346/180346 [==============================] - 14s - loss: 0.0723 - val_loss: 0.0665\n",
      "Epoch 20/20\n",
      "180346/180346 [==============================] - 14s - loss: 0.0723 - val_loss: 0.0669\n",
      "Training duration (s) :  302.59594225883484\n",
      "MAE= 18.6770378776\n",
      "RMSE= 25.648773070839297\n",
      "MAPE= 11.8446088679\n"
     ]
    }
   ],
   "source": [
    "# Simple RNN\n",
    "model, y_test, predicted = run_network(data, 'rnn')\n",
    "print_scores(y_test, predicted)\n",
    "plot_predictions(y_test, predicted, 15)"
   ]
  },
  {
   "cell_type": "code",
   "execution_count": 15,
   "metadata": {
    "collapsed": false,
    "scrolled": false
   },
   "outputs": [
    {
     "name": "stdout",
     "output_type": "stream",
     "text": [
      "\n",
      "Data Loaded. Compiling...\n",
      "\n",
      "Compilation Time :  0.13126182556152344\n",
      "Train on 180346 samples, validate on 9492 samples\n",
      "Epoch 1/20\n",
      "180346/180346 [==============================] - 55s - loss: 0.0963 - val_loss: 0.0712\n",
      "Epoch 2/20\n",
      "180346/180346 [==============================] - 55s - loss: 0.0801 - val_loss: 0.0687\n",
      "Epoch 3/20\n",
      "180346/180346 [==============================] - 55s - loss: 0.0768 - val_loss: 0.0699\n",
      "Epoch 4/20\n",
      "180346/180346 [==============================] - 55s - loss: 0.0754 - val_loss: 0.0685\n",
      "Epoch 5/20\n",
      "180346/180346 [==============================] - 55s - loss: 0.0743 - val_loss: 0.0670\n",
      "Epoch 6/20\n",
      "180346/180346 [==============================] - 55s - loss: 0.0737 - val_loss: 0.0666\n",
      "Epoch 7/20\n",
      "180346/180346 [==============================] - 55s - loss: 0.0731 - val_loss: 0.0673\n",
      "Epoch 8/20\n",
      "180346/180346 [==============================] - 55s - loss: 0.0727 - val_loss: 0.0660\n",
      "Epoch 9/20\n",
      "180346/180346 [==============================] - 55s - loss: 0.0721 - val_loss: 0.0666\n",
      "Epoch 10/20\n",
      "180346/180346 [==============================] - 55s - loss: 0.0720 - val_loss: 0.0652\n",
      "Epoch 11/20\n",
      "180346/180346 [==============================] - 55s - loss: 0.0714 - val_loss: 0.0647\n",
      "Epoch 12/20\n",
      "180346/180346 [==============================] - 55s - loss: 0.0711 - val_loss: 0.0641\n",
      "Epoch 13/20\n",
      "180346/180346 [==============================] - 55s - loss: 0.0707 - val_loss: 0.0676\n",
      "Epoch 14/20\n",
      "180346/180346 [==============================] - 55s - loss: 0.0703 - val_loss: 0.0650\n",
      "Epoch 15/20\n",
      "180346/180346 [==============================] - 55s - loss: 0.0705 - val_loss: 0.0650\n",
      "Epoch 16/20\n",
      "180346/180346 [==============================] - 55s - loss: 0.0698 - val_loss: 0.0645\n",
      "Epoch 17/20\n",
      "180346/180346 [==============================] - 55s - loss: 0.0695 - val_loss: 0.0650\n",
      "Epoch 18/20\n",
      "180346/180346 [==============================] - 55s - loss: 0.0693 - val_loss: 0.0650\n",
      "Epoch 19/20\n",
      "180346/180346 [==============================] - 55s - loss: 0.0695 - val_loss: 0.0644\n",
      "Epoch 20/20\n",
      "180346/180346 [==============================] - 55s - loss: 0.0692 - val_loss: 0.0643\n",
      "Training duration (s) :  1128.5570182800293\n",
      "MAE= 18.0436024542\n",
      "RMSE= 24.93809963437721\n",
      "MAPE= 11.2479324317\n"
     ]
    }
   ],
   "source": [
    "# GRU\n",
    "model, y_test, predicted = run_network(data, 'gru')\n",
    "print_scores(y_test, predicted)\n",
    "plot_predictions(y_test, predicted, 15)"
   ]
  },
  {
   "cell_type": "code",
   "execution_count": 16,
   "metadata": {
    "collapsed": false,
    "scrolled": false
   },
   "outputs": [
    {
     "name": "stdout",
     "output_type": "stream",
     "text": [
      "\n",
      "Data Loaded. Compiling...\n",
      "\n",
      "Compilation Time :  0.14759397506713867\n",
      "Train on 180346 samples, validate on 9492 samples\n",
      "Epoch 1/20\n",
      "180346/180346 [==============================] - 95s - loss: 0.0974 - val_loss: 0.0719\n",
      "Epoch 2/20\n",
      "180346/180346 [==============================] - 95s - loss: 0.0788 - val_loss: 0.0687\n",
      "Epoch 3/20\n",
      "180346/180346 [==============================] - 95s - loss: 0.0762 - val_loss: 0.0673\n",
      "Epoch 4/20\n",
      "180346/180346 [==============================] - 95s - loss: 0.0746 - val_loss: 0.0669\n",
      "Epoch 5/20\n",
      "180346/180346 [==============================] - 95s - loss: 0.0739 - val_loss: 0.0670\n",
      "Epoch 6/20\n",
      "180346/180346 [==============================] - 95s - loss: 0.0732 - val_loss: 0.0666\n",
      "Epoch 7/20\n",
      "180346/180346 [==============================] - 95s - loss: 0.0724 - val_loss: 0.0663\n",
      "Epoch 8/20\n",
      "180346/180346 [==============================] - 95s - loss: 0.0719 - val_loss: 0.0654\n",
      "Epoch 9/20\n",
      "180346/180346 [==============================] - 95s - loss: 0.0709 - val_loss: 0.0656\n",
      "Epoch 10/20\n",
      "180346/180346 [==============================] - 95s - loss: 0.0708 - val_loss: 0.0644\n",
      "Epoch 11/20\n",
      "180346/180346 [==============================] - 95s - loss: 0.0702 - val_loss: 0.0642\n",
      "Epoch 12/20\n",
      "180346/180346 [==============================] - 95s - loss: 0.0697 - val_loss: 0.0628\n",
      "Epoch 13/20\n",
      "180346/180346 [==============================] - 95s - loss: 0.0692 - val_loss: 0.0635\n",
      "Epoch 14/20\n",
      "180346/180346 [==============================] - 95s - loss: 0.0690 - val_loss: 0.0644\n",
      "Epoch 15/20\n",
      "180346/180346 [==============================] - 95s - loss: 0.0688 - val_loss: 0.0630\n",
      "Epoch 16/20\n",
      "180346/180346 [==============================] - 95s - loss: 0.0683 - val_loss: 0.0639\n",
      "Epoch 17/20\n",
      "180346/180346 [==============================] - 95s - loss: 0.0682 - val_loss: 0.0631\n",
      "Epoch 18/20\n",
      "180346/180346 [==============================] - 95s - loss: 0.0679 - val_loss: 0.0638\n",
      "Epoch 19/20\n",
      "180346/180346 [==============================] - 95s - loss: 0.0678 - val_loss: 0.0636\n",
      "Epoch 20/20\n",
      "180346/180346 [==============================] - 95s - loss: 0.0674 - val_loss: 0.0637\n",
      "Training duration (s) :  1932.1546018123627\n",
      "MAE= 17.855265323\n",
      "RMSE= 24.62906535580236\n",
      "MAPE= 11.5699939263\n"
     ]
    }
   ],
   "source": [
    "# LSTM\n",
    "model, y_test, predicted = run_network(data, 'lstm')\n",
    "print_scores(y_test, predicted)\n",
    "plot_predictions(y_test, predicted, 15)"
   ]
  },
  {
   "cell_type": "code",
   "execution_count": 18,
   "metadata": {
    "collapsed": false
   },
   "outputs": [
    {
     "name": "stdout",
     "output_type": "stream",
     "text": [
      "Max- 908.0 -mean- 224.104820302 -min- 1.0\n",
      "\n",
      "Data Loaded...training model\n",
      "\n",
      "Training duration (s) :  8.958134889602661\n",
      "MAE= 19.128982928\n",
      "RMSE= 26.003481713435214\n",
      "MAPE= 13.3646591029\n"
     ]
    }
   ],
   "source": [
    "# KNN\n",
    "data = train_test_traffic_data(16913, 50, 15, False)\n",
    "model, y_test, predicted = knn_model(data)\n",
    "print_scores(y_test, predicted)\n",
    "plot_predictions(y_test, predicted, 15)"
   ]
  },
  {
   "cell_type": "code",
   "execution_count": 13,
   "metadata": {
    "collapsed": false
   },
   "outputs": [
    {
     "name": "stdout",
     "output_type": "stream",
     "text": [
      "Max- 1710.0 -mean- 448.209640604 -min- 2.0\n"
     ]
    }
   ],
   "source": [
    "data = train_test_traffic_data(16913, 100, 30)"
   ]
  },
  {
   "cell_type": "code",
   "execution_count": 14,
   "metadata": {
    "collapsed": false
   },
   "outputs": [
    {
     "name": "stdout",
     "output_type": "stream",
     "text": [
      "\n",
      "Data Loaded. Compiling...\n",
      "\n",
      "Compilation Time :  0.08630728721618652\n",
      "Train on 88733 samples, validate on 4671 samples\n",
      "Epoch 1/20\n",
      "88733/88733 [==============================] - 13s - loss: 0.1571 - val_loss: 0.0577\n",
      "Epoch 2/20\n",
      "88733/88733 [==============================] - 13s - loss: 0.0819 - val_loss: 0.0508\n",
      "Epoch 3/20\n",
      "88733/88733 [==============================] - 13s - loss: 0.0696 - val_loss: 0.0519\n",
      "Epoch 4/20\n",
      "88733/88733 [==============================] - 13s - loss: 0.0639 - val_loss: 0.0490\n",
      "Epoch 5/20\n",
      "88733/88733 [==============================] - 13s - loss: 0.0607 - val_loss: 0.0502\n",
      "Epoch 6/20\n",
      "88733/88733 [==============================] - 13s - loss: 0.0586 - val_loss: 0.0485\n",
      "Epoch 7/20\n",
      "88733/88733 [==============================] - 13s - loss: 0.0562 - val_loss: 0.0492\n",
      "Epoch 8/20\n",
      "88733/88733 [==============================] - 13s - loss: 0.0547 - val_loss: 0.0469\n",
      "Epoch 9/20\n",
      "88733/88733 [==============================] - 13s - loss: 0.0536 - val_loss: 0.0447\n",
      "Epoch 10/20\n",
      "88733/88733 [==============================] - 13s - loss: 0.0523 - val_loss: 0.0450\n",
      "Epoch 11/20\n",
      "88733/88733 [==============================] - 13s - loss: 0.0519 - val_loss: 0.0468\n",
      "Epoch 12/20\n",
      "88733/88733 [==============================] - 13s - loss: 0.0514 - val_loss: 0.0440\n",
      "Epoch 13/20\n",
      "88733/88733 [==============================] - 13s - loss: 0.0507 - val_loss: 0.0449\n",
      "Epoch 14/20\n",
      "88733/88733 [==============================] - 13s - loss: 0.0504 - val_loss: 0.0452\n",
      "Epoch 15/20\n",
      "88733/88733 [==============================] - 13s - loss: 0.0498 - val_loss: 0.0451\n",
      "Epoch 16/20\n",
      "88733/88733 [==============================] - 13s - loss: 0.0492 - val_loss: 0.0440\n",
      "Epoch 17/20\n",
      "88733/88733 [==============================] - 13s - loss: 0.0491 - val_loss: 0.0429\n",
      "Epoch 18/20\n",
      "88733/88733 [==============================] - 13s - loss: 0.0492 - val_loss: 0.0431\n",
      "Epoch 19/20\n",
      "88733/88733 [==============================] - 13s - loss: 0.0484 - val_loss: 0.0442\n",
      "Epoch 20/20\n",
      "88733/88733 [==============================] - 13s - loss: 0.0482 - val_loss: 0.0423\n",
      "Training duration (s) :  281.28609800338745\n",
      "MAE= 29.6360385469\n",
      "RMSE= 40.078782231456024\n",
      "MAPE= 9.72530084602\n"
     ]
    }
   ],
   "source": [
    "# Simple RNN\n",
    "model, y_test, predicted = run_network(data, 'rnn')\n",
    "print_scores(y_test, predicted)\n",
    "plot_predictions(y_test, predicted, 30)"
   ]
  },
  {
   "cell_type": "code",
   "execution_count": 15,
   "metadata": {
    "collapsed": false
   },
   "outputs": [
    {
     "name": "stdout",
     "output_type": "stream",
     "text": [
      "\n",
      "Data Loaded. Compiling...\n",
      "\n",
      "Compilation Time :  0.13219261169433594\n",
      "Train on 88733 samples, validate on 4671 samples\n",
      "Epoch 1/20\n",
      "88733/88733 [==============================] - 53s - loss: 0.1287 - val_loss: 0.0619\n",
      "Epoch 2/20\n",
      "88733/88733 [==============================] - 53s - loss: 0.0719 - val_loss: 0.0565\n",
      "Epoch 3/20\n",
      "88733/88733 [==============================] - 53s - loss: 0.0657 - val_loss: 0.0518\n",
      "Epoch 4/20\n",
      "88733/88733 [==============================] - 53s - loss: 0.0620 - val_loss: 0.0504\n",
      "Epoch 5/20\n",
      "88733/88733 [==============================] - 53s - loss: 0.0602 - val_loss: 0.0530\n",
      "Epoch 6/20\n",
      "88733/88733 [==============================] - 53s - loss: 0.0589 - val_loss: 0.0494\n",
      "Epoch 7/20\n",
      "88733/88733 [==============================] - 53s - loss: 0.0578 - val_loss: 0.0501\n",
      "Epoch 8/20\n",
      "88733/88733 [==============================] - 53s - loss: 0.0566 - val_loss: 0.0489\n",
      "Epoch 9/20\n",
      "88733/88733 [==============================] - 53s - loss: 0.0556 - val_loss: 0.0468\n",
      "Epoch 10/20\n",
      "88733/88733 [==============================] - 53s - loss: 0.0551 - val_loss: 0.0478\n",
      "Epoch 11/20\n",
      "88733/88733 [==============================] - 53s - loss: 0.0545 - val_loss: 0.0475\n",
      "Epoch 12/20\n",
      "88733/88733 [==============================] - 53s - loss: 0.0536 - val_loss: 0.0475\n",
      "Epoch 13/20\n",
      "88733/88733 [==============================] - 53s - loss: 0.0532 - val_loss: 0.0460\n",
      "Epoch 14/20\n",
      "88733/88733 [==============================] - 53s - loss: 0.0526 - val_loss: 0.0464\n",
      "Epoch 15/20\n",
      "88733/88733 [==============================] - 53s - loss: 0.0525 - val_loss: 0.0463\n",
      "Epoch 16/20\n",
      "88733/88733 [==============================] - 53s - loss: 0.0517 - val_loss: 0.0449\n",
      "Epoch 17/20\n",
      "88733/88733 [==============================] - 53s - loss: 0.0511 - val_loss: 0.0452\n",
      "Epoch 18/20\n",
      "88733/88733 [==============================] - 53s - loss: 0.0507 - val_loss: 0.0449\n",
      "Epoch 19/20\n",
      "88733/88733 [==============================] - 53s - loss: 0.0498 - val_loss: 0.0434\n",
      "Epoch 20/20\n",
      "88733/88733 [==============================] - 53s - loss: 0.0498 - val_loss: 0.0440\n",
      "Training duration (s) :  1087.137708902359\n",
      "MAE= 30.8925061305\n",
      "RMSE= 42.08224826560958\n",
      "MAPE= 10.145447984\n"
     ]
    }
   ],
   "source": [
    "# GRU\n",
    "model, y_test, predicted = run_network(data, 'gru')\n",
    "print_scores(y_test, predicted)\n",
    "plot_predictions(y_test, predicted, 30)"
   ]
  },
  {
   "cell_type": "code",
   "execution_count": 16,
   "metadata": {
    "collapsed": false
   },
   "outputs": [
    {
     "name": "stdout",
     "output_type": "stream",
     "text": [
      "\n",
      "Data Loaded. Compiling...\n",
      "\n",
      "Compilation Time :  0.17961931228637695\n",
      "Train on 88733 samples, validate on 4671 samples\n",
      "Epoch 1/20\n",
      "88733/88733 [==============================] - 92s - loss: 0.1270 - val_loss: 0.0593\n",
      "Epoch 2/20\n",
      "88733/88733 [==============================] - 92s - loss: 0.0680 - val_loss: 0.0514\n",
      "Epoch 3/20\n",
      "88733/88733 [==============================] - 92s - loss: 0.0614 - val_loss: 0.0497\n",
      "Epoch 4/20\n",
      "88733/88733 [==============================] - 92s - loss: 0.0570 - val_loss: 0.0472\n",
      "Epoch 5/20\n",
      "88733/88733 [==============================] - 92s - loss: 0.0545 - val_loss: 0.0463\n",
      "Epoch 6/20\n",
      "88733/88733 [==============================] - 93s - loss: 0.0527 - val_loss: 0.0436\n",
      "Epoch 7/20\n",
      "88733/88733 [==============================] - 93s - loss: 0.0509 - val_loss: 0.0432\n",
      "Epoch 8/20\n",
      "88733/88733 [==============================] - 92s - loss: 0.0502 - val_loss: 0.0441\n",
      "Epoch 9/20\n",
      "88733/88733 [==============================] - 92s - loss: 0.0497 - val_loss: 0.0448\n",
      "Epoch 10/20\n",
      "88733/88733 [==============================] - 93s - loss: 0.0497 - val_loss: 0.0427\n",
      "Epoch 11/20\n",
      "88733/88733 [==============================] - 93s - loss: 0.0479 - val_loss: 0.0424\n",
      "Epoch 12/20\n",
      "88733/88733 [==============================] - 92s - loss: 0.0482 - val_loss: 0.0425\n",
      "Epoch 13/20\n",
      "88733/88733 [==============================] - 93s - loss: 0.0474 - val_loss: 0.0422\n",
      "Epoch 14/20\n",
      "88733/88733 [==============================] - 92s - loss: 0.0469 - val_loss: 0.0416\n",
      "Epoch 15/20\n",
      "88733/88733 [==============================] - 93s - loss: 0.0464 - val_loss: 0.0424\n",
      "Epoch 16/20\n",
      "88733/88733 [==============================] - 93s - loss: 0.0463 - val_loss: 0.0414\n",
      "Epoch 17/20\n",
      "88733/88733 [==============================] - 93s - loss: 0.0458 - val_loss: 0.0413\n",
      "Epoch 18/20\n",
      "88733/88733 [==============================] - 93s - loss: 0.0456 - val_loss: 0.0420\n",
      "Epoch 19/20\n",
      "88733/88733 [==============================] - 93s - loss: 0.0453 - val_loss: 0.0427\n",
      "Epoch 20/20\n",
      "88733/88733 [==============================] - 92s - loss: 0.0459 - val_loss: 0.0417\n",
      "Training duration (s) :  1887.579679965973\n",
      "MAE= 30.1759105228\n",
      "RMSE= 41.597461224136836\n",
      "MAPE= 9.38822383224\n"
     ]
    }
   ],
   "source": [
    "# LSTM\n",
    "model, y_test, predicted = run_network(data, 'lstm')\n",
    "print_scores(y_test, predicted)\n",
    "plot_predictions(y_test, predicted, 30)"
   ]
  },
  {
   "cell_type": "code",
   "execution_count": 17,
   "metadata": {
    "collapsed": false
   },
   "outputs": [
    {
     "name": "stdout",
     "output_type": "stream",
     "text": [
      "Max- 1710.0 -mean- 448.209640604 -min- 2.0\n",
      "\n",
      "Data Loaded...training model\n",
      "\n",
      "Training duration (s) :  5.273013114929199\n",
      "MAE= 33.4246578007\n",
      "RMSE= 48.571043792516285\n",
      "MAPE= 12.3650768686\n"
     ]
    }
   ],
   "source": [
    "# KNN\n",
    "data = train_test_traffic_data(16913, 100, 30, False)\n",
    "model, y_test, predicted = knn_model(data)\n",
    "print_scores(y_test, predicted)\n",
    "plot_predictions(y_test, predicted, 30)"
   ]
  },
  {
   "cell_type": "code",
   "execution_count": 18,
   "metadata": {
    "collapsed": false
   },
   "outputs": [
    {
     "name": "stdout",
     "output_type": "stream",
     "text": [
      "Max- 2346.0 -mean- 672.314460906 -min- 3.0\n"
     ]
    }
   ],
   "source": [
    "data = train_test_traffic_data(16913, 50, 45)"
   ]
  },
  {
   "cell_type": "code",
   "execution_count": 19,
   "metadata": {
    "collapsed": false
   },
   "outputs": [
    {
     "name": "stdout",
     "output_type": "stream",
     "text": [
      "\n",
      "Data Loaded. Compiling...\n",
      "\n",
      "Compilation Time :  0.10337376594543457\n",
      "Train on 58259 samples, validate on 3067 samples\n",
      "Epoch 1/20\n",
      "58259/58259 [==============================] - 4s - loss: 0.2727 - val_loss: 0.0629\n",
      "Epoch 2/20\n",
      "58259/58259 [==============================] - 4s - loss: 0.1188 - val_loss: 0.0595\n",
      "Epoch 3/20\n",
      "58259/58259 [==============================] - 4s - loss: 0.0920 - val_loss: 0.0557\n",
      "Epoch 4/20\n",
      "58259/58259 [==============================] - 4s - loss: 0.0789 - val_loss: 0.0545\n",
      "Epoch 5/20\n",
      "58259/58259 [==============================] - 4s - loss: 0.0715 - val_loss: 0.0527\n",
      "Epoch 6/20\n",
      "58259/58259 [==============================] - 4s - loss: 0.0663 - val_loss: 0.0504\n",
      "Epoch 7/20\n",
      "58259/58259 [==============================] - 4s - loss: 0.0647 - val_loss: 0.0500\n",
      "Epoch 8/20\n",
      "58259/58259 [==============================] - 4s - loss: 0.0599 - val_loss: 0.0480\n",
      "Epoch 9/20\n",
      "58259/58259 [==============================] - 4s - loss: 0.0578 - val_loss: 0.0487\n",
      "Epoch 10/20\n",
      "58259/58259 [==============================] - 4s - loss: 0.0565 - val_loss: 0.0492\n",
      "Epoch 11/20\n",
      "58259/58259 [==============================] - 4s - loss: 0.0548 - val_loss: 0.0476\n",
      "Epoch 12/20\n",
      "58259/58259 [==============================] - 4s - loss: 0.0535 - val_loss: 0.0493\n",
      "Epoch 13/20\n",
      "58259/58259 [==============================] - 4s - loss: 0.0522 - val_loss: 0.0497\n",
      "Epoch 14/20\n",
      "58259/58259 [==============================] - 4s - loss: 0.0511 - val_loss: 0.0462\n",
      "Epoch 15/20\n",
      "58259/58259 [==============================] - 4s - loss: 0.0504 - val_loss: 0.0447\n",
      "Epoch 16/20\n",
      "58259/58259 [==============================] - 4s - loss: 0.0488 - val_loss: 0.0446\n",
      "Epoch 17/20\n",
      "58259/58259 [==============================] - 4s - loss: 0.0484 - val_loss: 0.0488\n",
      "Epoch 18/20\n",
      "58259/58259 [==============================] - 4s - loss: 0.0486 - val_loss: 0.0465\n",
      "Epoch 19/20\n",
      "58259/58259 [==============================] - 4s - loss: 0.0471 - val_loss: 0.0443\n",
      "Epoch 20/20\n",
      "58259/58259 [==============================] - 4s - loss: 0.0466 - val_loss: 0.0431\n",
      "Training duration (s) :  104.63657927513123\n",
      "MAE= 42.8730608113\n",
      "RMSE= 59.52489670289904\n",
      "MAPE= 8.89941388249\n"
     ]
    }
   ],
   "source": [
    "# Simple RNN\n",
    "model, y_test, predicted = run_network(data, 'rnn')\n",
    "print_scores(y_test, predicted)\n",
    "plot_predictions(y_test, predicted, 45)"
   ]
  },
  {
   "cell_type": "code",
   "execution_count": 20,
   "metadata": {
    "collapsed": false
   },
   "outputs": [
    {
     "name": "stdout",
     "output_type": "stream",
     "text": [
      "\n",
      "Data Loaded. Compiling...\n",
      "\n",
      "Compilation Time :  0.13346290588378906\n",
      "Train on 58259 samples, validate on 3067 samples\n",
      "Epoch 1/20\n",
      "58259/58259 [==============================] - 18s - loss: 0.1543 - val_loss: 0.0639\n",
      "Epoch 2/20\n",
      "58259/58259 [==============================] - 18s - loss: 0.0731 - val_loss: 0.0571\n",
      "Epoch 3/20\n",
      "58259/58259 [==============================] - 17s - loss: 0.0661 - val_loss: 0.0525\n",
      "Epoch 4/20\n",
      "58259/58259 [==============================] - 18s - loss: 0.0618 - val_loss: 0.0504\n",
      "Epoch 5/20\n",
      "58259/58259 [==============================] - 17s - loss: 0.0584 - val_loss: 0.0486\n",
      "Epoch 6/20\n",
      "58259/58259 [==============================] - 17s - loss: 0.0569 - val_loss: 0.0478\n",
      "Epoch 7/20\n",
      "58259/58259 [==============================] - 17s - loss: 0.0545 - val_loss: 0.0476\n",
      "Epoch 8/20\n",
      "58259/58259 [==============================] - 17s - loss: 0.0535 - val_loss: 0.0458\n",
      "Epoch 9/20\n",
      "58259/58259 [==============================] - 17s - loss: 0.0531 - val_loss: 0.0455\n",
      "Epoch 10/20\n",
      "58259/58259 [==============================] - 17s - loss: 0.0517 - val_loss: 0.0453\n",
      "Epoch 11/20\n",
      "58259/58259 [==============================] - 17s - loss: 0.0510 - val_loss: 0.0449\n",
      "Epoch 12/20\n",
      "58259/58259 [==============================] - 17s - loss: 0.0503 - val_loss: 0.0452\n",
      "Epoch 13/20\n",
      "58259/58259 [==============================] - 17s - loss: 0.0493 - val_loss: 0.0436\n",
      "Epoch 14/20\n",
      "58259/58259 [==============================] - 18s - loss: 0.0495 - val_loss: 0.0417\n",
      "Epoch 15/20\n",
      "58259/58259 [==============================] - 17s - loss: 0.0478 - val_loss: 0.0427\n",
      "Epoch 16/20\n",
      "58259/58259 [==============================] - 18s - loss: 0.0479 - val_loss: 0.0404\n",
      "Epoch 17/20\n",
      "58259/58259 [==============================] - 17s - loss: 0.0467 - val_loss: 0.0425\n",
      "Epoch 18/20\n",
      "58259/58259 [==============================] - 18s - loss: 0.0466 - val_loss: 0.0398\n",
      "Epoch 19/20\n",
      "58259/58259 [==============================] - 18s - loss: 0.0457 - val_loss: 0.0404\n",
      "Epoch 20/20\n",
      "58259/58259 [==============================] - 18s - loss: 0.0452 - val_loss: 0.0390\n",
      "Training duration (s) :  376.47093749046326\n",
      "MAE= 43.1733370246\n",
      "RMSE= 57.453990186513515\n",
      "MAPE= 8.83534979164\n"
     ]
    }
   ],
   "source": [
    "# GRU\n",
    "model, y_test, predicted = run_network(data, 'gru')\n",
    "print_scores(y_test, predicted)\n",
    "plot_predictions(y_test, predicted, 45)"
   ]
  },
  {
   "cell_type": "code",
   "execution_count": 21,
   "metadata": {
    "collapsed": false
   },
   "outputs": [
    {
     "name": "stdout",
     "output_type": "stream",
     "text": [
      "\n",
      "Data Loaded. Compiling...\n",
      "\n",
      "Compilation Time :  0.14941620826721191\n",
      "Train on 58259 samples, validate on 3067 samples\n",
      "Epoch 1/20\n",
      "58259/58259 [==============================] - 30s - loss: 0.1636 - val_loss: 0.0711\n",
      "Epoch 2/20\n",
      "58259/58259 [==============================] - 30s - loss: 0.0732 - val_loss: 0.0560\n",
      "Epoch 3/20\n",
      "58259/58259 [==============================] - 30s - loss: 0.0637 - val_loss: 0.0504\n",
      "Epoch 4/20\n",
      "58259/58259 [==============================] - 30s - loss: 0.0580 - val_loss: 0.0477\n",
      "Epoch 5/20\n",
      "58259/58259 [==============================] - 30s - loss: 0.0552 - val_loss: 0.0460\n",
      "Epoch 6/20\n",
      "58259/58259 [==============================] - 30s - loss: 0.0527 - val_loss: 0.0462\n",
      "Epoch 7/20\n",
      "58259/58259 [==============================] - 30s - loss: 0.0515 - val_loss: 0.0431\n",
      "Epoch 8/20\n",
      "58259/58259 [==============================] - 30s - loss: 0.0493 - val_loss: 0.0422\n",
      "Epoch 9/20\n",
      "58259/58259 [==============================] - 30s - loss: 0.0483 - val_loss: 0.0413\n",
      "Epoch 10/20\n",
      "58259/58259 [==============================] - 30s - loss: 0.0474 - val_loss: 0.0402\n",
      "Epoch 11/20\n",
      "58259/58259 [==============================] - 30s - loss: 0.0459 - val_loss: 0.0414\n",
      "Epoch 12/20\n",
      "58259/58259 [==============================] - 30s - loss: 0.0448 - val_loss: 0.0396\n",
      "Epoch 13/20\n",
      "58259/58259 [==============================] - 30s - loss: 0.0441 - val_loss: 0.0396\n",
      "Epoch 14/20\n",
      "58259/58259 [==============================] - 30s - loss: 0.0444 - val_loss: 0.0416\n",
      "Epoch 15/20\n",
      "58259/58259 [==============================] - 30s - loss: 0.0431 - val_loss: 0.0402\n",
      "Epoch 16/20\n",
      "58259/58259 [==============================] - 30s - loss: 0.0425 - val_loss: 0.0382\n",
      "Epoch 17/20\n",
      "58259/58259 [==============================] - 30s - loss: 0.0414 - val_loss: 0.0384\n",
      "Epoch 18/20\n",
      "58259/58259 [==============================] - 30s - loss: 0.0409 - val_loss: 0.0387\n",
      "Epoch 19/20\n",
      "58259/58259 [==============================] - 30s - loss: 0.0411 - val_loss: 0.0356\n",
      "Epoch 20/20\n",
      "58259/58259 [==============================] - 30s - loss: 0.0404 - val_loss: 0.0352\n",
      "Training duration (s) :  639.5091080665588\n",
      "MAE= 41.3594384311\n",
      "RMSE= 56.699677510531885\n",
      "MAPE= 8.35656101351\n"
     ]
    }
   ],
   "source": [
    "# LSTM\n",
    "model, y_test, predicted = run_network(data, 'lstm')\n",
    "print_scores(y_test, predicted)\n",
    "plot_predictions(y_test, predicted, 45)"
   ]
  },
  {
   "cell_type": "code",
   "execution_count": 22,
   "metadata": {
    "collapsed": false
   },
   "outputs": [
    {
     "name": "stdout",
     "output_type": "stream",
     "text": [
      "Max- 2346.0 -mean- 672.314460906 -min- 3.0\n",
      "\n",
      "Data Loaded...training model\n",
      "\n",
      "Training duration (s) :  1.2333686351776123\n",
      "MAE= 42.8151428653\n",
      "RMSE= 62.914296541672456\n",
      "MAPE= 9.72133679137\n"
     ]
    }
   ],
   "source": [
    "# KNN\n",
    "data = train_test_traffic_data(16913, 50, 45, False)\n",
    "model, y_test, predicted = knn_model(data)\n",
    "print_scores(y_test, predicted)\n",
    "plot_predictions(y_test, predicted, 45)"
   ]
  },
  {
   "cell_type": "code",
   "execution_count": 23,
   "metadata": {
    "collapsed": false
   },
   "outputs": [
    {
     "name": "stdout",
     "output_type": "stream",
     "text": [
      "Max- 1710.0 -mean- 448.209640604 -min- 2.0\n",
      "\n",
      "Data Loaded..., training model\n",
      "\n",
      "Training duration (s) :  409.82636618614197\n",
      "MAE= 28.6411250263\n",
      "RMSE= 39.91936899089441\n",
      "MAPE= 9.00352679977\n"
     ]
    }
   ],
   "source": [
    "# SVR\n",
    "data = train_test_traffic_data(16913, 50, 30)\n",
    "model, y_test, predicted = svm_model(data)\n",
    "print_scores(y_test, predicted)\n",
    "plot_predictions(y_test, predicted, 30)"
   ]
  },
  {
   "cell_type": "code",
   "execution_count": 24,
   "metadata": {
    "collapsed": false
   },
   "outputs": [
    {
     "name": "stdout",
     "output_type": "stream",
     "text": [
      "Max- 2346.0 -mean- 672.314460906 -min- 3.0\n",
      "\n",
      "Data Loaded..., training model\n",
      "\n",
      "Training duration (s) :  163.15964102745056\n",
      "MAE= 40.5185497149\n",
      "RMSE= 55.69833789919948\n",
      "MAPE= 8.45540462301\n"
     ]
    }
   ],
   "source": [
    "# SVR\n",
    "data = train_test_traffic_data(16913, 50, 45)\n",
    "model, y_test, predicted = svm_model(data)\n",
    "print_scores(y_test, predicted)\n",
    "plot_predictions(y_test, predicted, 45)"
   ]
  },
  {
   "cell_type": "code",
   "execution_count": 25,
   "metadata": {
    "collapsed": false
   },
   "outputs": [],
   "source": [
    "# SVR\n",
    "# data = train_test_traffic_data(16913, 50, 15)\n",
    "# model, y_test, predicted = svm_model(data)\n",
    "# print_scores(y_test, predicted)\n",
    "# plot_predictions(y_test, predicted, 15)"
   ]
  }
 ],
 "metadata": {
  "kernelspec": {
   "display_name": "Python 3.5",
   "language": "python",
   "name": "python3.4"
  },
  "language_info": {
   "codemirror_mode": {
    "name": "ipython",
    "version": 3
   },
   "file_extension": ".py",
   "mimetype": "text/x-python",
   "name": "python",
   "nbconvert_exporter": "python",
   "pygments_lexer": "ipython3",
   "version": "3.5.1"
  }
 },
 "nbformat": 4,
 "nbformat_minor": 0
}
