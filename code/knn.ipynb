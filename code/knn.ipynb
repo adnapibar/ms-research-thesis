{
 "cells": [
  {
   "cell_type": "code",
   "execution_count": 1,
   "metadata": {
    "collapsed": true
   },
   "outputs": [],
   "source": [
    "from sklearn.neighbors import KNeighborsRegressor\n",
    "\n",
    "# Set a random seed to reproduce the results\n",
    "import time\n",
    "import matplotlib.pyplot as plt\n",
    "import numpy as np\n",
    "import pandas as pd\n",
    "\n",
    "np.random.seed(1234)"
   ]
  },
  {
   "cell_type": "code",
   "execution_count": 2,
   "metadata": {
    "collapsed": true
   },
   "outputs": [],
   "source": [
    "# Load the volume data\n",
    "volume_data = pd.read_csv('../data/volume_data.csv', header=None)\n",
    "all_hfs = pd.read_csv('../data/hf_list.csv')\n",
    "\n",
    "\n",
    "def find_index_hf(hf_no):\n",
    "    return all_hfs[all_hfs['GID'] == hf_no].index.tolist()[0]"
   ]
  },
  {
   "cell_type": "code",
   "execution_count": 3,
   "metadata": {
    "collapsed": true
   },
   "outputs": [],
   "source": [
    "# Return a training and test data for a site.\n",
    "def train_test_traffic_data(sitenum, sequence_length=50):\n",
    "    site_traffic = volume_data[find_index_hf(sitenum)]\n",
    "    mean_t = int(site_traffic.mean())\n",
    "    site_traffic = site_traffic.replace(0, mean_t).values\n",
    "    result = []\n",
    "    for index in range(len(site_traffic) - sequence_length):\n",
    "        result.append(site_traffic[index: index + sequence_length])\n",
    "    result = np.array(result)\n",
    "    row = round(0.9 * result.shape[0])\n",
    "    train = result[:row, :]\n",
    "    np.random.shuffle(train)\n",
    "    X_train = train[:, :-1]\n",
    "    y_train = train[:, -1]\n",
    "    X_test = result[row:, :-1]\n",
    "    y_test = result[row:, -1]\n",
    "\n",
    "    return [X_train, y_train, X_test, y_test]"
   ]
  },
  {
   "cell_type": "code",
   "execution_count": 4,
   "metadata": {
    "collapsed": true
   },
   "outputs": [],
   "source": [
    "def run_network(mdl=None, data=None):\n",
    "    global_start_time = time.time()\n",
    "    sequence_length = 10\n",
    "\n",
    "    if data is None:\n",
    "        print('Loading data... ')\n",
    "        X_train, y_train, X_test, y_test = train_test_traffic_data(15773, sequence_length)\n",
    "    else:\n",
    "        X_train, y_train, X_test, y_test = data\n",
    "\n",
    "    print('\\nData Loaded...\\n')\n",
    "\n",
    "    if mdl is None:\n",
    "        mdl = KNeighborsRegressor(5, weights='distance')\n",
    "\n",
    "    try:\n",
    "        mdl.fit(X_train, y_train)\n",
    "        predicted_trffic = mdl.predict(X_test)\n",
    "    except KeyboardInterrupt:\n",
    "        print('Training duration (s) : ', time.time() - global_start_time)\n",
    "        return mdl, y_test, 0\n",
    "\n",
    "    print('Training duration (s) : ', time.time() - global_start_time)\n",
    "\n",
    "    return mdl, y_test, predicted_trffic"
   ]
  },
  {
   "cell_type": "code",
   "execution_count": 5,
   "metadata": {
    "collapsed": true
   },
   "outputs": [],
   "source": [
    "def plot_predictions(y_test, predicted):\n",
    "    x = np.arange(300)\n",
    "    plt.plot(x, y_test[:300], label='Actual')\n",
    "    plt.plot(x, predicted[:300], label='Predicted')\n",
    "    plt.legend(loc=2)\n",
    "    plt.savefig('../latex-thesis/Figures/knn.pdf')"
   ]
  },
  {
   "cell_type": "code",
   "execution_count": 7,
   "metadata": {
    "collapsed": true
   },
   "outputs": [],
   "source": [
    "from sklearn.metrics import mean_absolute_error, mean_squared_error\n",
    "def mean_absolute_percentage_error(y_true, y_pred):\n",
    "    return np.mean(np.abs((y_true - y_pred) / y_true)) * 100\n",
    "\n",
    "def print_scores(actual, predictions):\n",
    "    print(\"MAE=\", mean_absolute_error(actual, predictions))\n",
    "    print(\"MSE=\", mean_squared_error(actual, predictions))\n",
    "    print(\"MAPE=\", mean_absolute_percentage_error(actual, predictions))"
   ]
  },
  {
   "cell_type": "code",
   "execution_count": 8,
   "metadata": {
    "collapsed": true
   },
   "outputs": [],
   "source": [
    "data = train_test_traffic_data(15773, 10)"
   ]
  },
  {
   "cell_type": "code",
   "execution_count": 10,
   "metadata": {
    "collapsed": false
   },
   "outputs": [
    {
     "name": "stdout",
     "output_type": "stream",
     "text": [
      "\n",
      "Data Loaded...\n",
      "\n",
      "Training duration (s) :  3.7091736793518066\n"
     ]
    }
   ],
   "source": [
    "mdl, y_test, predicted_trffic = run_network(data=data)"
   ]
  },
  {
   "cell_type": "code",
   "execution_count": 11,
   "metadata": {
    "collapsed": false
   },
   "outputs": [
    {
     "name": "stdout",
     "output_type": "stream",
     "text": [
      "MAE= 14.2436856501\n",
      "MSE= 429.795652859\n",
      "MAPE= 17.4392203882\n"
     ]
    }
   ],
   "source": [
    "print_scores(y_test, predicted_trffic)"
   ]
  },
  {
   "cell_type": "code",
   "execution_count": 12,
   "metadata": {
    "collapsed": true
   },
   "outputs": [],
   "source": [
    "plot_predictions(y_test, predicted_trffic)"
   ]
  },
  {
   "cell_type": "code",
   "execution_count": null,
   "metadata": {
    "collapsed": true
   },
   "outputs": [],
   "source": []
  }
 ],
 "metadata": {
  "kernelspec": {
   "display_name": "Python 3.5",
   "language": "python",
   "name": "python3.4"
  },
  "language_info": {
   "codemirror_mode": {
    "name": "ipython",
    "version": 3
   },
   "file_extension": ".py",
   "mimetype": "text/x-python",
   "name": "python",
   "nbconvert_exporter": "python",
   "pygments_lexer": "ipython3",
   "version": "3.5.1"
  }
 },
 "nbformat": 4,
 "nbformat_minor": 0
}
