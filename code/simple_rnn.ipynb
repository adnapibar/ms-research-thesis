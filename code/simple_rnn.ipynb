{
 "cells": [
  {
   "cell_type": "code",
   "execution_count": 18,
   "metadata": {
    "collapsed": false
   },
   "outputs": [],
   "source": [
    "# A single hidden layer feedforward network\n",
    "\n",
    "from sklearn.metrics import mean_absolute_error, mean_squared_error\n",
    "\n",
    "import time\n",
    "import matplotlib.pyplot as plt\n",
    "import numpy as np\n",
    "import pandas as pd\n",
    "from keras.layers.core import Dense, Activation, Dropout\n",
    "from keras.layers.recurrent import SimpleRNN\n",
    "from keras.models import Sequential\n",
    "\n",
    "# Set a random seed to reproduce the results\n",
    "np.random.seed(1234)"
   ]
  },
  {
   "cell_type": "code",
   "execution_count": 2,
   "metadata": {
    "collapsed": true
   },
   "outputs": [],
   "source": [
    "# Load the volume data\n",
    "volume_data = pd.read_csv('../data/volume_data.csv', header=None)\n",
    "scaler = None\n",
    "all_hfs = pd.read_csv('../data/hf_list.csv')\n",
    "\n",
    "def find_index_hf(hf_no):\n",
    "    return all_hfs[all_hfs['GID'] == hf_no].index.tolist()[0]\n",
    "\n",
    "maxs = []\n",
    "means = []"
   ]
  },
  {
   "cell_type": "code",
   "execution_count": 3,
   "metadata": {
    "collapsed": true
   },
   "outputs": [],
   "source": [
    "# Return a training and test data for a site.\n",
    "def train_test_traffic_data(sitenum, sequence_length=100):\n",
    "    site_traffic = volume_data[find_index_hf(sitenum)]\n",
    "    mean_t = int(site_traffic.mean())\n",
    "    site_traffic = site_traffic.replace(0, mean_t).values\n",
    "    #30 minutes\n",
    "    site_traffic = site_traffic[0::2] + site_traffic[1::2]\n",
    "    \n",
    "    means.append(site_traffic.mean())\n",
    "    maxs.append(site_traffic.max())\n",
    "    site_traffic = (site_traffic - site_traffic.mean()) / site_traffic.max()\n",
    "    result = []\n",
    "    for index in range(len(site_traffic) - sequence_length):\n",
    "        result.append(site_traffic[index: index + sequence_length])\n",
    "    result = np.array(result)\n",
    "    row = round(0.9 * result.shape[0])\n",
    "    train = result[:row, :]\n",
    "    np.random.shuffle(train)\n",
    "    X_train = train[:, :-1]\n",
    "    y_train = train[:, -1]\n",
    "    X_test = result[row:, :-1]\n",
    "    y_test = result[row:, -1]\n",
    "\n",
    "    X_train = np.reshape(X_train, (X_train.shape[0], X_train.shape[1], 1))\n",
    "    X_test = np.reshape(X_test, (X_test.shape[0], X_test.shape[1], 1))\n",
    "\n",
    "    return [X_train, y_train, X_test, y_test]\n"
   ]
  },
  {
   "cell_type": "code",
   "execution_count": 19,
   "metadata": {
    "collapsed": true
   },
   "outputs": [],
   "source": [
    "def build_model():\n",
    "    mdl = Sequential()\n",
    "    # a network with 1-dimensional input,\n",
    "    # two hidden layers of sizes 50 and 100\n",
    "    # and eventually a 1-dimensional output layer\n",
    "    layers = [1, 50, 100, 1]\n",
    "\n",
    "    # We also add 20% Dropout in this layer.\n",
    "    mdl.add(SimpleRNN(\n",
    "        input_dim=layers[0],\n",
    "        output_dim=layers[1],\n",
    "        return_sequences=True))\n",
    "    mdl.add(Dropout(0.2))\n",
    "\n",
    "    # 2nd hidden layer\n",
    "    mdl.add(SimpleRNN(\n",
    "        layers[2],\n",
    "        return_sequences=False))\n",
    "    mdl.add(Dropout(0.2))\n",
    "\n",
    "    # last layer we use is a Dense layer ( = feedforward).\n",
    "    # Since we are doing a regression, its activation is linear\n",
    "    mdl.add(Dense(\n",
    "        output_dim=layers[3]))\n",
    "    mdl.add(Activation(\"linear\"))\n",
    "\n",
    "    start = time.time()\n",
    "    mdl.compile(loss=\"mse\", optimizer=\"rmsprop\")\n",
    "    print(\"Compilation Time : \", time.time() - start)\n",
    "    return mdl"
   ]
  },
  {
   "cell_type": "code",
   "execution_count": 13,
   "metadata": {
    "collapsed": true
   },
   "outputs": [],
   "source": [
    "def run_network(mdl=None, data=None):\n",
    "    global_start_time = time.time()\n",
    "    epochs = 10\n",
    "    sequence_length = 50\n",
    "\n",
    "    if data is None:\n",
    "        print('Loading data... ')\n",
    "        X_train, y_train, X_test, y_test = train_test_traffic_data(15773, sequence_length)\n",
    "    else:\n",
    "        X_train, y_train, X_test, y_test = data\n",
    "\n",
    "    print('\\nData Loaded. Compiling...\\n')\n",
    "\n",
    "    if mdl is None:\n",
    "        mdl = build_model()\n",
    "\n",
    "    try:\n",
    "        mdl.fit(X_train, y_train, batch_size=512,\n",
    "                nb_epoch=epochs, validation_split=0.05)\n",
    "        predicted_trffic = mdl.predict(X_test)\n",
    "        predicted_trffic = np.reshape(predicted_trffic, (predicted_trffic.size,))\n",
    "    except KeyboardInterrupt:\n",
    "        print('Training duration (s) : ', time.time() - global_start_time)\n",
    "        return mdl, y_test, 0\n",
    "\n",
    "    print('Training duration (s) : ', time.time() - global_start_time)\n",
    "    y_test = (y_test * maxs[0]) + means[0]\n",
    "    predicted_trffic = (predicted_trffic * maxs[0]) + means[0]\n",
    "    return mdl, y_test, predicted_trffic"
   ]
  },
  {
   "cell_type": "code",
   "execution_count": 20,
   "metadata": {
    "collapsed": true
   },
   "outputs": [],
   "source": [
    "def plot_predictions(y_test, predicted):\n",
    "    x = np.arange(400)\n",
    "    plt.plot(x, y_test[:400], label='Actual')\n",
    "    plt.plot(x, predicted[:400], label='Predicted')\n",
    "    plt.legend(loc=2)\n",
    "    plt.savefig('../latex-thesis/Figures/rnn2.pdf')"
   ]
  },
  {
   "cell_type": "code",
   "execution_count": 8,
   "metadata": {
    "collapsed": true
   },
   "outputs": [],
   "source": [
    "def mean_absolute_percentage_error(y_true, y_pred):\n",
    "    return np.mean(np.abs((y_true - y_pred) / y_true)) * 100\n",
    "\n",
    "\n",
    "def print_scores(actual, predictions):\n",
    "    print(\"MAE=\", mean_absolute_error(actual, predictions))\n",
    "    print(\"MSE=\", mean_squared_error(actual, predictions))\n",
    "    print(\"MAPE=\", mean_absolute_percentage_error(actual, predictions))"
   ]
  },
  {
   "cell_type": "code",
   "execution_count": 21,
   "metadata": {
    "collapsed": false
   },
   "outputs": [
    {
     "name": "stdout",
     "output_type": "stream",
     "text": [
      "Loading data... \n",
      "\n",
      "Data Loaded. Compiling...\n",
      "\n",
      "Compilation Time :  0.08241701126098633\n",
      "Train on 83391 samples, validate on 4390 samples\n",
      "Epoch 1/10\n",
      "83391/83391 [==============================] - 5s - loss: 0.1178 - val_loss: 0.0061\n",
      "Epoch 2/10\n",
      "83391/83391 [==============================] - 5s - loss: 0.0096 - val_loss: 0.0053\n",
      "Epoch 3/10\n",
      "83391/83391 [==============================] - 5s - loss: 0.0058 - val_loss: 0.0050\n",
      "Epoch 4/10\n",
      "83391/83391 [==============================] - 5s - loss: 0.0055 - val_loss: 0.0050\n",
      "Epoch 5/10\n",
      "83391/83391 [==============================] - 5s - loss: 0.0053 - val_loss: 0.0051\n",
      "Epoch 6/10\n",
      "83391/83391 [==============================] - 5s - loss: 0.0053 - val_loss: 0.0050\n",
      "Epoch 7/10\n",
      "83391/83391 [==============================] - 5s - loss: 0.0052 - val_loss: 0.0050\n",
      "Epoch 8/10\n",
      "83391/83391 [==============================] - 5s - loss: 0.0052 - val_loss: 0.0051\n",
      "Epoch 9/10\n",
      "83391/83391 [==============================] - 5s - loss: 0.0052 - val_loss: 0.0050\n",
      "Epoch 10/10\n",
      "83391/83391 [==============================] - 5s - loss: 0.0052 - val_loss: 0.0050\n",
      "Training duration (s) :  65.53581976890564\n"
     ]
    }
   ],
   "source": [
    "model, y_test, predicted = run_network()"
   ]
  },
  {
   "cell_type": "code",
   "execution_count": 22,
   "metadata": {
    "collapsed": false
   },
   "outputs": [
    {
     "name": "stdout",
     "output_type": "stream",
     "text": [
      "MAE= 25.8144673433\n",
      "MSE= 1358.52867924\n",
      "MAPE= 16.046851733\n"
     ]
    }
   ],
   "source": [
    "print_scores(y_test, predicted)"
   ]
  },
  {
   "cell_type": "code",
   "execution_count": 25,
   "metadata": {
    "collapsed": true
   },
   "outputs": [],
   "source": [
    "plot_predictions(y_test, predicted)"
   ]
  },
  {
   "cell_type": "code",
   "execution_count": 24,
   "metadata": {
    "collapsed": true
   },
   "outputs": [],
   "source": [
    "plt.close()"
   ]
  },
  {
   "cell_type": "code",
   "execution_count": null,
   "metadata": {
    "collapsed": true
   },
   "outputs": [],
   "source": []
  }
 ],
 "metadata": {
  "kernelspec": {
   "display_name": "Python 3.5",
   "language": "python",
   "name": "python3.4"
  },
  "language_info": {
   "codemirror_mode": {
    "name": "ipython",
    "version": 3
   },
   "file_extension": ".py",
   "mimetype": "text/x-python",
   "name": "python",
   "nbconvert_exporter": "python",
   "pygments_lexer": "ipython3",
   "version": "3.5.1"
  }
 },
 "nbformat": 4,
 "nbformat_minor": 0
}
