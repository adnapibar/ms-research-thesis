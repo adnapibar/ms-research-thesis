{
 "cells": [
  {
   "cell_type": "code",
   "execution_count": 30,
   "metadata": {
    "collapsed": false
   },
   "outputs": [],
   "source": [
    "# A single hidden layer feedforward network\n",
    "\n",
    "from sklearn.metrics import mean_absolute_error, mean_squared_error\n",
    "\n",
    "import time\n",
    "import matplotlib.pyplot as plt\n",
    "import numpy as np\n",
    "import pandas as pd\n",
    "from keras.layers.core import Dense, Activation, Dropout\n",
    "from keras.layers.recurrent import SimpleRNN\n",
    "from keras.models import Sequential\n",
    "\n",
    "# Set a random seed to reproduce the results\n",
    "np.random.seed(1234)"
   ]
  },
  {
   "cell_type": "code",
   "execution_count": 3,
   "metadata": {
    "collapsed": true
   },
   "outputs": [],
   "source": [
    "# Load the volume data\n",
    "volume_data = pd.read_csv('../data/volume_data.csv', header=None)\n",
    "scaler = None\n",
    "all_hfs = pd.read_csv('../data/hf_list.csv')\n",
    "\n",
    "def find_index_hf(hf_no):\n",
    "    return all_hfs[all_hfs['GID'] == hf_no].index.tolist()[0]\n",
    "\n",
    "maxs = []\n",
    "means = []"
   ]
  },
  {
   "cell_type": "code",
   "execution_count": 20,
   "metadata": {
    "collapsed": true
   },
   "outputs": [],
   "source": [
    "# Return a training and test data for a site.\n",
    "def train_test_traffic_data(sitenum, sequence_length=100):\n",
    "    site_traffic = volume_data[find_index_hf(sitenum)]\n",
    "    mean_t = int(site_traffic.mean())\n",
    "    site_traffic = site_traffic.replace(0, mean_t).values\n",
    "    means.append(site_traffic.mean())\n",
    "    maxs.append(site_traffic.max())\n",
    "    site_traffic = (site_traffic - site_traffic.mean()) / site_traffic.max()\n",
    "    result = []\n",
    "    for index in range(len(site_traffic) - sequence_length):\n",
    "        result.append(site_traffic[index: index + sequence_length])\n",
    "    result = np.array(result)\n",
    "    row = round(0.9 * result.shape[0])\n",
    "    train = result[:row, :]\n",
    "    np.random.shuffle(train)\n",
    "    X_train = train[:, :-1]\n",
    "    y_train = train[:, -1]\n",
    "    X_test = result[row:, :-1]\n",
    "    y_test = result[row:, -1]\n",
    "\n",
    "    X_train = np.reshape(X_train, (X_train.shape[0], X_train.shape[1], 1))\n",
    "    X_test = np.reshape(X_test, (X_test.shape[0], X_test.shape[1], 1))\n",
    "\n",
    "    return [X_train, y_train, X_test, y_test]\n"
   ]
  },
  {
   "cell_type": "code",
   "execution_count": 31,
   "metadata": {
    "collapsed": true
   },
   "outputs": [],
   "source": [
    "def build_model():\n",
    "    mdl = Sequential()\n",
    "    # a network with 1-dimensional input,\n",
    "    # two hidden layers of sizes 50 and 100\n",
    "    # and eventually a 1-dimensional output layer\n",
    "    layers = [1, 50, 100, 1]\n",
    "\n",
    "    # We also add 20% Dropout in this layer.\n",
    "    mdl.add(SimpleRNN(\n",
    "        input_dim=layers[0],\n",
    "        output_dim=layers[1],\n",
    "        return_sequences=True))\n",
    "    mdl.add(Dropout(0.2))\n",
    "\n",
    "    # 2nd hidden layer\n",
    "    mdl.add(SimpleRNN(\n",
    "        layers[2],\n",
    "        return_sequences=False))\n",
    "    mdl.add(Dropout(0.2))\n",
    "\n",
    "    # last layer we use is a Dense layer ( = feedforward).\n",
    "    # Since we are doing a regression, its activation is linear\n",
    "    mdl.add(Dense(\n",
    "        output_dim=layers[3]))\n",
    "    mdl.add(Activation(\"linear\"))\n",
    "\n",
    "    start = time.time()\n",
    "    mdl.compile(loss=\"mse\", optimizer=\"rmsprop\")\n",
    "    print(\"Compilation Time : \", time.time() - start)\n",
    "    return mdl"
   ]
  },
  {
   "cell_type": "code",
   "execution_count": 14,
   "metadata": {
    "collapsed": true
   },
   "outputs": [],
   "source": [
    "def run_network(mdl=None, data=None):\n",
    "    global_start_time = time.time()\n",
    "    epochs = 5\n",
    "    sequence_length = 50\n",
    "\n",
    "    if data is None:\n",
    "        print('Loading data... ')\n",
    "        X_train, y_train, X_test, y_test = train_test_traffic_data(15773, sequence_length)\n",
    "    else:\n",
    "        X_train, y_train, X_test, y_test = data\n",
    "\n",
    "    print('\\nData Loaded. Compiling...\\n')\n",
    "\n",
    "    if mdl is None:\n",
    "        mdl = build_model()\n",
    "\n",
    "    try:\n",
    "        mdl.fit(X_train, y_train, batch_size=512,\n",
    "                nb_epoch=epochs, validation_split=0.05)\n",
    "        predicted_trffic = mdl.predict(X_test)\n",
    "        predicted_trffic = np.reshape(predicted_trffic, (predicted_trffic.size,))\n",
    "    except KeyboardInterrupt:\n",
    "        print('Training duration (s) : ', time.time() - global_start_time)\n",
    "        return mdl, y_test, 0\n",
    "\n",
    "    print('Training duration (s) : ', time.time() - global_start_time)\n",
    "    y_test = (y_test * maxs[0]) + means[0]\n",
    "    predicted_trffic = (predicted_trffic * maxs[0]) + means[0]\n",
    "    return mdl, y_test, predicted_trffic"
   ]
  },
  {
   "cell_type": "code",
   "execution_count": 32,
   "metadata": {
    "collapsed": true
   },
   "outputs": [],
   "source": [
    "def plot_predictions(y_test, predicted):\n",
    "    x = np.arange(400)\n",
    "    plt.plot(x, y_test[:400], label='Actual')\n",
    "    plt.plot(x, predicted[:400], label='Predicted')\n",
    "    plt.legend(loc=2)\n",
    "    plt.savefig('../latex-thesis/Figures/gru.pdf')"
   ]
  },
  {
   "cell_type": "code",
   "execution_count": 33,
   "metadata": {
    "collapsed": true
   },
   "outputs": [],
   "source": [
    "def mean_absolute_percentage_error(y_true, y_pred):\n",
    "    return np.mean(np.abs((y_true - y_pred) / y_true)) * 100\n",
    "\n",
    "\n",
    "def print_scores(actual, predictions):\n",
    "    print(\"MAE=\", mean_absolute_error(actual, predictions))\n",
    "    print(\"MSE=\", mean_squared_error(actual, predictions))\n",
    "    print(\"MAPE=\", mean_absolute_percentage_error(actual, predictions))"
   ]
  },
  {
   "cell_type": "code",
   "execution_count": 34,
   "metadata": {
    "collapsed": false
   },
   "outputs": [
    {
     "name": "stdout",
     "output_type": "stream",
     "text": [
      "Loading data... \n",
      "\n",
      "Data Loaded. Compiling...\n",
      "\n",
      "Compilation Time :  0.12109565734863281\n",
      "Train on 166825 samples, validate on 8781 samples\n",
      "Epoch 1/5\n",
      "166825/166825 [==============================] - 40s - loss: 0.0066 - val_loss: 0.0052\n",
      "Epoch 2/5\n",
      "166825/166825 [==============================] - 40s - loss: 0.0058 - val_loss: 0.0051\n",
      "Epoch 3/5\n",
      "166825/166825 [==============================] - 41s - loss: 0.0057 - val_loss: 0.0050\n",
      "Epoch 4/5\n",
      "166825/166825 [==============================] - 41s - loss: 0.0056 - val_loss: 0.0051\n",
      "Epoch 5/5\n",
      "166825/166825 [==============================] - 41s - loss: 0.0055 - val_loss: 0.0050\n",
      "Training duration (s) :  261.8060989379883\n"
     ]
    }
   ],
   "source": [
    "model, y_test, predicted = run_network()"
   ]
  },
  {
   "cell_type": "code",
   "execution_count": 35,
   "metadata": {
    "collapsed": false
   },
   "outputs": [
    {
     "name": "stdout",
     "output_type": "stream",
     "text": [
      "MAE= 14.2090728795\n",
      "MSE= 412.396660651\n",
      "MAPE= 18.1445212417\n"
     ]
    }
   ],
   "source": [
    "print_scores(y_test, predicted)"
   ]
  },
  {
   "cell_type": "code",
   "execution_count": 38,
   "metadata": {
    "collapsed": true
   },
   "outputs": [],
   "source": [
    "plot_predictions(y_test, predicted)"
   ]
  },
  {
   "cell_type": "code",
   "execution_count": 37,
   "metadata": {
    "collapsed": true
   },
   "outputs": [],
   "source": [
    "plt.close()"
   ]
  },
  {
   "cell_type": "code",
   "execution_count": null,
   "metadata": {
    "collapsed": true
   },
   "outputs": [],
   "source": []
  }
 ],
 "metadata": {
  "kernelspec": {
   "display_name": "Python 3.5",
   "language": "python",
   "name": "python3.4"
  },
  "language_info": {
   "codemirror_mode": {
    "name": "ipython",
    "version": 3
   },
   "file_extension": ".py",
   "mimetype": "text/x-python",
   "name": "python",
   "nbconvert_exporter": "python",
   "pygments_lexer": "ipython3",
   "version": "3.5.1"
  }
 },
 "nbformat": 4,
 "nbformat_minor": 0
}
